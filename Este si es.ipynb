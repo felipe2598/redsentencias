{
 "cells": [
  {
   "cell_type": "markdown",
   "metadata": {},
   "source": [
    "# Código redes de sentencias de la Corte Constitucional\n",
    "\n",
    "    Autores: Andrés Felipe Patiño y Juan Carlos Rodríguez Raga\n",
    "    Universidad de los Andes\n",
    "    2020-20"
   ]
  },
  {
   "cell_type": "code",
   "execution_count": null,
   "metadata": {},
   "outputs": [],
   "source": [
    "import os\n",
    "import requests\n",
    "import urllib.parse\n",
    "from bs4 import BeautifulSoup\n",
    "import re\n",
    "from urllib.request import urlopen\n",
    "from random import sample"
   ]
  },
  {
   "cell_type": "markdown",
   "metadata": {},
   "source": [
    "## Extracción de sentencias"
   ]
  },
  {
   "cell_type": "code",
   "execution_count": null,
   "metadata": {},
   "outputs": [],
   "source": [
    "folder_location = './sample_sentencias'\n",
    "if not os.path.exists(folder_location):\n",
    "    os.mkdir(folder_location)"
   ]
  },
  {
   "cell_type": "code",
   "execution_count": null,
   "metadata": {},
   "outputs": [],
   "source": [
    "años = ['92','93','94','95','96','97','98','99','00','01','02','03','04','05','06','07','08','09','10','11','12','13','14','15','16','17','18','19','20']\n",
    "añosp = ['00', '01', '02', '11']\n",
    "pages = ['0', '1']"
   ]
  },
  {
   "cell_type": "code",
   "execution_count": null,
   "metadata": {},
   "outputs": [],
   "source": [
    "urls=[]\n",
    "for i in años:\n",
    "    for p in pages:\n",
    "        url= \"https://www.corteconstitucional.gov.co/relatoria/radicador/buscar.php?ponente=&demandado=&Sentencia=&Tipo=Sentencias&proceso=&busqueda=&conector=AND&segundotema=&anios=\"+str(i)+\"&pg=\"+str(p)+\"&vs=0&accion=Buscar\"\n",
    "        urls.append(url)\n",
    "links=[]\n",
    "for url in urls:\n",
    "    response = requests.get(url)\n",
    "    soup = BeautifulSoup(response.text, \"html.parser\")\n",
    "    results = soup.find_all('td', attrs={'width': '100%'})\n",
    "    for result in results:\n",
    "        hipervinculo=result.find(\"a\")\n",
    "        if hipervinculo != None:\n",
    "            link=hipervinculo.get(\"href\")\n",
    "            link_completo=urllib.parse.urljoin(url,link)\n",
    "            links.append(link_completo)\n",
    "            filename=os.path.join(folder_location,link.split('/')[-1])\n",
    "            with open(filename, 'wb') as f:\n",
    "                f.write(requests.get(link_completo).content)"
   ]
  },
  {
   "cell_type": "code",
   "execution_count": null,
   "metadata": {},
   "outputs": [],
   "source": [
    "print(len(links))"
   ]
  },
  {
   "cell_type": "code",
   "execution_count": null,
   "metadata": {},
   "outputs": [],
   "source": [
    "#muestra = sample(links,1022)\n",
    "#for link in muestra:\n",
    " #   filename=os.path.join(folder_location,link.split('/')[-1])\n",
    "  #  with open(filename, 'wb') as f:\n",
    "   #     f.write(requests.get(link).content)"
   ]
  },
  {
   "cell_type": "markdown",
   "metadata": {},
   "source": [
    "##  Extracción partes"
   ]
  },
  {
   "cell_type": "code",
   "execution_count": null,
   "metadata": {},
   "outputs": [],
   "source": [
    "files = os.listdir(\"./sample_sentencias/\")"
   ]
  },
  {
   "cell_type": "code",
   "execution_count": null,
   "metadata": {},
   "outputs": [],
   "source": [
    "sentdct = {}\n",
    "noencon = []\n",
    "for i,file in enumerate(files):\n",
    "    with open(str(\"./sample_sentencias/\"+files[i]), encoding=\"Windows-1252\") as f:   \n",
    "        soup = BeautifulSoup(f, \"html.parser\")\n",
    "        f.close()\n",
    "        btags = soup.find_all(\"b\")\n",
    "        htags = soup.find_all(re.compile(\"h[0-9]|h\"))\n",
    "        etags = soup.find_all(\"p\", class_=\"Estilo\")\n",
    "        mtags = soup.find_all(\"p\", class_=re.compile(\"MsoHeading[0-9]|MsoHeading\"))    \n",
    "        ANT = re.findall(\"ANTECEDENTES|Antecedentes|A.N.T.E.C.E.D.E.N.T.E.S|A.n.t.e.c.e.d.e.n.t.e.s|INFORMACI.N|Informaci.n\", str(btags))\n",
    "        CONS = re.findall(\"CONSIDERACIONES|Consideraciones|FUNDAMENTO|Fundamento|F.U.N.D.A.M.E.N.T.O|F.u.n.d.a.m.e.n.t.o\", str(btags))\n",
    "        RES = re.findall(\"DECISI.N|Decisi.n|D.E.C.I.S.I...N|D.e.c.i.s.i...|RESUELVE|Resuelve|R.E.S.U.E.L.V.E|R.e.s.u.e.l.v.e|R\\nE.S.U.E.L.V.E|R\\ne.s.u.e.l.v.e\", str(btags))\n",
    "        ANT1 = re.findall(\"ANTECEDENTES|Antecedentes|A.N.T.E.C.E.D.E.N.T.E.S|A.n.t.e.c.e.d.e.n.t.e.s|INFORMACI.N|Informaci.n\", str(htags))\n",
    "        CONS1 = re.findall(\"CONSIDERACIONES|Consideraciones|FUNDAMENTO|Fundamento|F.U.N.D.A.M.E.N.T.O|F.u.n.d.a.m.e.n.t.o\", str(htags))\n",
    "        RES1 = re.findall(\"DECISI.N|Decisi.n|D.E.C.I.S.I...N|D.e.c.i.s.i...|RESUELVE|Resuelve|R.E.S.U.E.L.V.E|R.e.s.u.e.l.v.e|R\\nE.S.U.E.L.V.E|R\\ne.s.u.e.l.v.e\", str(htags))\n",
    "        ANT2 = re.findall(\"ANTECEDENTES|Antecedentes|A.N.T.E.C.E.D.E.N.T.E.S|A.n.t.e.c.e.d.e.n.t.e.s|INFORMACI.N|Informaci.n\", str(etags))\n",
    "        CONS2 = re.findall(\"CONSIDERACIONES|Consideraciones|FUNDAMENTO|Fundamento|F.U.N.D.A.M.E.N.T.O|F.u.n.d.a.m.e.n.t.o\", str(etags))\n",
    "        RES2 = re.findall(\"DECISI.N|Decisi.n|D.E.C.I.S.I...N|D.e.c.i.s.i...|RESUELVE|Resuelve|R.E.S.U.E.L.V.E|R.e.s.u.e.l.v.e|R\\nE.S.U.E.L.V.E|R\\ne.s.u.e.l.v.e\", str(etags))\n",
    "        ANT3 = re.findall(\"ANTECEDENTES|Antecedentes|A.N.T.E.C.E.D.E.N.T.E.S|A.n.t.e.c.e.d.e.n.t.e.s|INFORMACI.N|Informaci.n\", str(mtags))\n",
    "        CONS3 = re.findall(\"CONSIDERACIONES|Consideraciones|FUNDAMENTO|Fundamento|F.U.N.D.A.M.E.N.T.O|F.u.n.d.a.m.e.n.t.o\", str(mtags))\n",
    "        RES3 = re.findall(\"DECISI.N|Decisi.n|D.E.C.I.S.I...N|D.e.c.i.s.i...|RESUELVE|Resuelve|R.E.S.U.E.L.V.E|R.e.s.u.e.l.v.e|R\\nE.S.U.E.L.V.E|R\\ne.s.u.e.l.v.e\", str(mtags))\n",
    "        sent = re.findall(\"([CcTtSs].[0-9][0-9][0-9]-[0-9][0-9]|[CcTtSs].[0-9][0-9][0-9][Aa]-[0-9][0-9]|[CcTtSs].[0-9][0-9][0-9][0-9]-[0-9][0-9]|[CcTtSs].[0-9][0-9][0-9][0-9][Aa]-[0-9][0-9])\", str(soup))\n",
    "        if sent == []:\n",
    "            noencon.append(\"identificador %d\" % (i))\n",
    "        else:\n",
    "            nsent = str(sent[0])\n",
    "            DICTU = {\"id\":nsent}\n",
    "            ANTt = ANT + ANT1 + ANT2 + ANT3\n",
    "            CONSt = CONS + CONS1 + CONS2 + CONS3\n",
    "            RESt = RES + RES1 + RES2 + RES3\n",
    "            RESt.reverse()\n",
    "            with open(\"./sample_sentencias/\"+files[i], mode=\"r\") as bigfile:\n",
    "                reader = bigfile.read()\n",
    "                bigfile.close()\n",
    "                if RESt != [] and CONSt != [] and ANTt != []:\n",
    "                    for i,part in enumerate(re.split(RESt[0], reader, maxsplit=1)):\n",
    "                        with open(\"RESm_\" + str(i+1), mode=\"w\") as newfileres:\n",
    "                            newfileres.write(RESt[0]+part)\n",
    "                    repart1 = open(\"RESm_1\", \"r\")\n",
    "                    departr = open(\"RESm_2\", \"r\")\n",
    "                    DICTU[\"RES\"] = (departr.read())\n",
    "                    for i,part in enumerate(re.split(CONSt[0], repart1.read(), maxsplit=1)):\n",
    "                        with open(\"CONSm_\" + str(i+1), mode=\"w\") as newfilecons:\n",
    "                            newfilecons.write(CONSt[0]+part)\n",
    "                    repart2 = open(\"CONSm_1\", \"r\")\n",
    "                    departc = open(\"CONSm_2\", \"r\")\n",
    "                    DICTU[\"CONS\"] = (departc.read())\n",
    "                    for i,part in enumerate(re.split(ANTt[0], repart2.read(), maxsplit=1)):\n",
    "                        with open(\"ANTm_\" + str(i+1), mode=\"w\") as newfileant:\n",
    "                            newfileant.write(ANTt[0]+part)\n",
    "                    departh1 = open(\"ANTm_1\", \"r\")\n",
    "                    departh2 = open(\"ANTm_2\", \"r\")\n",
    "                    DICTU[\"ANT\"] = (departh2.read())\n",
    "                    DICTU[\"ENC\"] = (departh1.read())\n",
    "                elif RESt != [] and CONSt != [] and ANTt == []:\n",
    "                    for i,part in enumerate(re.split(RESt[0], reader, maxsplit=1)):\n",
    "                        with open(\"RESm_\" + str(i+1), mode=\"w\") as newfileres:\n",
    "                            newfileres.write(RESt[0]+part)\n",
    "                    repart1 = open(\"RESm_1\", \"r\")\n",
    "                    departr = open(\"RESm_2\", \"r\")\n",
    "                    DICTU[\"RES\"] = (departr.read())\n",
    "                    for i,part in enumerate(re.split(CONSt[0], repart1.read(), maxsplit=1)):\n",
    "                        with open(\"CONSm_\" + str(i+1), mode=\"w\") as newfilecons:\n",
    "                            newfilecons.write(CONSt[0]+part)\n",
    "                    repart2 = open(\"CONSm_1\", \"r\")\n",
    "                    departc = open(\"CONSm_2\", \"r\")\n",
    "                    DICTU[\"CONS\"] = (departc.read())\n",
    "                    DICTU[\"ENC\"] = (repart2.read())\n",
    "                elif RESt != [] and CONSt == [] and ANTt == []:\n",
    "                    for i,part in enumerate(re.split(RESt[0], reader, maxsplit=1)):\n",
    "                        with open(\"RESm_\" + str(i+1), mode=\"w\") as newfileres:\n",
    "                            newfileres.write(RESt[0]+part)\n",
    "                    repart1 = open(\"RESm_1\", \"r\")\n",
    "                    departr = open(\"RESm_2\", \"r\")\n",
    "                    DICTU[\"RES\"] = (departr.read())\n",
    "                    DICTU[\"CUERPO\"] = (repart1.read())\n",
    "                elif RESt != [] and CONSt == [] and ANTt != []:\n",
    "                    print(\"%s_error4\" % (nsent))\n",
    "                else:\n",
    "                    print(\"%s_error5\" % (nsent))\n",
    "            sentdct['%s' % (nsent)] = DICTU"
   ]
  },
  {
   "cell_type": "markdown",
   "metadata": {},
   "source": [
    "## Para hacer pruebas, no usar"
   ]
  },
  {
   "cell_type": "code",
   "execution_count": null,
   "metadata": {},
   "outputs": [],
   "source": [
    "print(ANTt)"
   ]
  },
  {
   "cell_type": "code",
   "execution_count": null,
   "metadata": {
    "scrolled": true
   },
   "outputs": [],
   "source": [
    "print(sentdct.keys())"
   ]
  },
  {
   "cell_type": "code",
   "execution_count": null,
   "metadata": {},
   "outputs": [],
   "source": [
    "print(sentdct[\"C-012-94\"].get(\"CONS\"))"
   ]
  },
  {
   "cell_type": "code",
   "execution_count": null,
   "metadata": {},
   "outputs": [],
   "source": [
    "sentdct = {}\n",
    "noencon = []\n",
    "with open(str(\"./sample_sentencias/\"+files[3]), encoding=\"Windows-1252\") as f:   \n",
    "    soup = BeautifulSoup(f, \"html.parser\")\n",
    "    f.close()\n",
    "    btags = soup.find_all(\"b\")\n",
    "    htags = soup.find_all(re.compile(\"h[0-9]|h\"))\n",
    "    etags = soup.find_all(\"p\", class_=\"Estilo\")\n",
    "    mtags = soup.find_all(\"p\", class_=re.compile(\"MsoHeading[0-9]|MsoHeading\"))    \n",
    "    ANT = re.findall(\"ANTECEDENTES|Antecedentes|A.N.T.E.C.E.D.E.N.T.E.S|A.n.t.e.c.e.d.e.n.t.e.s|INFORMACI.N|Informaci.n\", str(btags))\n",
    "    CONS = re.findall(\"CONSIDERACIONES|Consideraciones|FUNDAMENTO|Fundamento|F.U.N.D.A.M.E.N.T.O|F.u.n.d.a.m.e.n.t.o\", str(btags))\n",
    "    RES = re.findall(\"DECISI.N|Decisi.n|D.E.C.I.S.I...N|D.e.c.i.s.i...|RESUELVE|Resuelve|R.E.S.U.E.L.V.E|R.e.s.u.e.l.v.e|R\\nE.S.U.E.L.V.E|R\\ne.s.u.e.l.v.e\", str(btags))\n",
    "    ANT1 = re.findall(\"ANTECEDENTES|Antecedentes|A.N.T.E.C.E.D.E.N.T.E.S|A.n.t.e.c.e.d.e.n.t.e.s|INFORMACI.N|Informaci.n\", str(htags))\n",
    "    CONS1 = re.findall(\"CONSIDERACIONES|Consideraciones|FUNDAMENTO|Fundamento|F.U.N.D.A.M.E.N.T.O|F.u.n.d.a.m.e.n.t.o\", str(htags))\n",
    "    RES1 = re.findall(\"DECISI.N|Decisi.n|D.E.C.I.S.I...N|D.e.c.i.s.i...|RESUELVE|Resuelve|R.E.S.U.E.L.V.E|R.e.s.u.e.l.v.e|R\\nE.S.U.E.L.V.E|R\\ne.s.u.e.l.v.e\", str(htags))\n",
    "    ANT2 = re.findall(\"ANTECEDENTES|Antecedentes|A.N.T.E.C.E.D.E.N.T.E.S|A.n.t.e.c.e.d.e.n.t.e.s|INFORMACI.N|Informaci.n\", str(etags))\n",
    "    CONS2 = re.findall(\"CONSIDERACIONES|Consideraciones|FUNDAMENTO|Fundamento|F.U.N.D.A.M.E.N.T.O|F.u.n.d.a.m.e.n.t.o\", str(etags))\n",
    "    RES2 = re.findall(\"DECISI.N|Decisi.n|D.E.C.I.S.I...N|D.e.c.i.s.i...|RESUELVE|Resuelve|R.E.S.U.E.L.V.E|R.e.s.u.e.l.v.e|R\\nE.S.U.E.L.V.E|R\\ne.s.u.e.l.v.e\", str(etags))\n",
    "    ANT3 = re.findall(\"ANTECEDENTES|Antecedentes|A.N.T.E.C.E.D.E.N.T.E.S|A.n.t.e.c.e.d.e.n.t.e.s|INFORMACI.N|Informaci.n\", str(mtags))\n",
    "    CONS3 = re.findall(\"CONSIDERACIONES|Consideraciones|FUNDAMENTO|Fundamento|F.U.N.D.A.M.E.N.T.O|F.u.n.d.a.m.e.n.t.o\", str(mtags))\n",
    "    RES3 = re.findall(\"DECISI.N|Decisi.n|D.E.C.I.S.I...N|D.e.c.i.s.i...|RESUELVE|Resuelve|R.E.S.U.E.L.V.E|R.e.s.u.e.l.v.e|R\\nE.S.U.E.L.V.E|R\\ne.s.u.e.l.v.e\", str(mtags))\n",
    "    sent = re.findall(\"([CcTtSs].[0-9][0-9][0-9]-[0-9][0-9]|[CcTtSs].[0-9][0-9][0-9][Aa]-[0-9][0-9]|[CcTtSs].[0-9][0-9][0-9][0-9]-[0-9][0-9]|[CcTtSs].[0-9][0-9][0-9][0-9][Aa]-[0-9][0-9])\", str(soup))\n",
    "    if sent == []:\n",
    "        noencon.append(\"identificador %d\" % (i))\n",
    "    else:\n",
    "        nsent = str(sent[0])\n",
    "        DICTU = {\"id\":nsent}\n",
    "        ANTt = ANT + ANT1 + ANT2 + ANT3\n",
    "        CONSt = CONS + CONS1 + CONS2 + CONS3\n",
    "        RESt = RES + RES1 + RES2 + RES3\n",
    "        RESt.reverse()"
   ]
  },
  {
   "cell_type": "code",
   "execution_count": null,
   "metadata": {},
   "outputs": [],
   "source": [
    "with open(\"./sample_sentencias/\"+files[3], mode=\"r\") as bigfile:\n",
    "    reader = bigfile.read()\n",
    "    bigfile.close()\n",
    "    if RESt != [] and CONSt != [] and ANTt != []:\n",
    "        for i,part in enumerate(re.split(RESt[0], reader, maxsplit=1)):\n",
    "            with open(\"RESm_\" + str(i+1), mode=\"w\") as newfileres:\n",
    "                newfileres.write(RESt[0]+part)\n",
    "        repart1 = open(\"RESm_1\", \"r\")\n",
    "        departr = open(\"RESm_2\", \"r\")\n",
    "        DICTU[\"RES\"] = (departr.read())\n",
    "        for i,part in enumerate(re.split(CONSt[0], repart1.read(), maxsplit=1)):\n",
    "            with open(\"CONSm_\" + str(i+1), mode=\"w\") as newfilecons:\n",
    "                newfilecons.write(CONSt[0]+part)\n",
    "        repart2 = open(\"CONSm_1\", \"r\")\n",
    "        departc = open(\"CONSm_2\", \"r\")\n",
    "        DICTU[\"CONS\"] = (departc.read())\n",
    "        for i,part in enumerate(re.split(ANTt[0], repart2.read(), maxsplit=1)):\n",
    "             with open(\"ANTm_\" + str(i+1), mode=\"w\") as newfileant:\n",
    "                newfileant.write(ANTt[0]+part)\n",
    "        departh1 = open(\"ANTm_1\", \"r\")\n",
    "        departh2 = open(\"ANTm_2\", \"r\")\n",
    "        DICTU[\"ANT\"] = (departh2.read())\n",
    "        DICTU[\"ENC\"] = (departh1.read())\n",
    "    elif RESt != [] and CONSt != [] and ANTt == []:\n",
    "        for i,part in enumerate(re.split(RESt[0], reader, maxsplit=1)):\n",
    "            with open(\"RESm_\" + str(i+1), mode=\"w\") as newfileres:\n",
    "                newfileres.write(RESt[0]+part)\n",
    "        repart1 = open(\"RESm_1\", \"r\")\n",
    "        departr = open(\"RESm_2\", \"r\")\n",
    "        DICTU[\"RES\"] = (departr.read())\n",
    "        for i,part in enumerate(re.split(CONSt[0], repart1.read(), maxsplit=1)):\n",
    "            with open(\"CONSm_\" + str(i+1), mode=\"w\") as newfilecons:\n",
    "                newfilecons.write(CONSt[0]+part)\n",
    "        repart2 = open(\"CONSm_1\", \"r\")\n",
    "        departc = open(\"CONSm_2\", \"r\")\n",
    "        DICTU[\"CONS\"] = (departc.read())\n",
    "        DICTU[\"ENC\"] = (repart2.read())\n",
    "    elif RESt != [] and CONSt == [] and ANTt == []:\n",
    "        for i,part in enumerate(re.split(RESt[0], reader, maxsplit=1)):\n",
    "            with open(\"RESm_\" + str(i+1), mode=\"w\") as newfileres:\n",
    "                newfileres.write(RESt[0]+part)\n",
    "        repart1 = open(\"RESm_1\", \"r\")\n",
    "        departr = open(\"RESm_2\", \"r\")\n",
    "        DICTU[\"RES\"] = (departr.read())\n",
    "        DICTU[\"CUERPO\"] = (repart1.read())\n",
    "    elif RESt != [] and CONSt == [] and ANTt != []:\n",
    "        print(\"%s_error4\" % (nsent))\n",
    "    else:\n",
    "        print(\"%s_error5\" % (nsent))\n",
    "sentdct['%s' % (nsent)] = DICTU"
   ]
  }
 ],
 "metadata": {
  "kernelspec": {
   "display_name": "Python 3",
   "language": "python",
   "name": "python3"
  },
  "language_info": {
   "codemirror_mode": {
    "name": "ipython",
    "version": 3
   },
   "file_extension": ".py",
   "mimetype": "text/x-python",
   "name": "python",
   "nbconvert_exporter": "python",
   "pygments_lexer": "ipython3",
   "version": "3.8.5"
  }
 },
 "nbformat": 4,
 "nbformat_minor": 4
}
