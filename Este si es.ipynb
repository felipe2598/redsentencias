{
 "cells": [
  {
   "cell_type": "markdown",
   "metadata": {},
   "source": [
    "# Código redes de sentencias de la Corte Constitucional\n",
    "\n",
    "    Autores: Andrés Felipe Patiño y Juan Carlos Rodríguez Raga\n",
    "    Universidad de los Andes\n",
    "    2020-20"
   ]
  },
  {
   "cell_type": "code",
   "execution_count": 1,
   "metadata": {},
   "outputs": [],
   "source": [
    "import os\n",
    "import requests\n",
    "import urllib.parse\n",
    "from bs4 import BeautifulSoup\n",
    "import re\n",
    "import altair as alt\n",
    "import pandas as pd\n",
    "from urllib.request import urlopen\n",
    "from random import sample"
   ]
  },
  {
   "cell_type": "markdown",
   "metadata": {},
   "source": [
    "## Extracción de sentencias"
   ]
  },
  {
   "cell_type": "code",
   "execution_count": 2,
   "metadata": {},
   "outputs": [],
   "source": [
    "folder_location = './sample_sentencias'\n",
    "if not os.path.exists(folder_location):\n",
    "    os.mkdir(folder_location)"
   ]
  },
  {
   "cell_type": "code",
   "execution_count": 3,
   "metadata": {},
   "outputs": [],
   "source": [
    "años = ['92','93','94','95','96','97','98','99','00','01','02','03','04','05','06','07','08','09','10','11','12','13','14','15','16','17','18','19','20']\n",
    "añosp = ['00', '01', '02', '11']\n",
    "pages = ['0', '1']"
   ]
  },
  {
   "cell_type": "code",
   "execution_count": 4,
   "metadata": {},
   "outputs": [],
   "source": [
    "urls=[]\n",
    "for i in años:\n",
    "    for p in pages:\n",
    "        url= \"https://www.corteconstitucional.gov.co/relatoria/radicador/buscar.php?ponente=&demandado=&Sentencia=&Tipo=Sentencias&proceso=&busqueda=&conector=AND&segundotema=&anios=\"+str(i)+\"&pg=\"+str(p)+\"&vs=0&accion=Buscar\"\n",
    "        urls.append(url)\n",
    "links=[]\n",
    "for url in urls:\n",
    "    response = requests.get(url)\n",
    "    soup = BeautifulSoup(response.text, \"html.parser\")\n",
    "    results = soup.find_all('td', attrs={'width': '100%'})\n",
    "    for result in results:\n",
    "        hipervinculo=result.find(\"a\")\n",
    "        if hipervinculo != None:\n",
    "            link=hipervinculo.get(\"href\")\n",
    "            link_completo=urllib.parse.urljoin(url,link)\n",
    "            links.append(link_completo)"
   ]
  },
  {
   "cell_type": "code",
   "execution_count": 5,
   "metadata": {},
   "outputs": [
    {
     "name": "stdout",
     "output_type": "stream",
     "text": [
      "26484\n"
     ]
    }
   ],
   "source": [
    "print(len(links))"
   ]
  },
  {
   "cell_type": "code",
   "execution_count": 6,
   "metadata": {},
   "outputs": [],
   "source": [
    "muestra = sample(links,1022)\n",
    "for link in muestra:\n",
    "    filename=os.path.join(folder_location,link.split('/')[-1])\n",
    "    with open(filename, 'wb') as f:\n",
    "        f.write(requests.get(link).content)"
   ]
  },
  {
   "cell_type": "code",
   "execution_count": 17,
   "metadata": {},
   "outputs": [
    {
     "data": {
      "text/plain": [
       "<re.Match object; span=(1606550, 1606558), match='C-322-15'>"
      ]
     },
     "execution_count": 17,
     "metadata": {},
     "output_type": "execute_result"
    }
   ],
   "source": [
    "re.search(\"C-322-15\", str(links))\n",
    "print()"
   ]
  },
  {
   "cell_type": "markdown",
   "metadata": {},
   "source": [
    "##  Extracción partes"
   ]
  },
  {
   "cell_type": "code",
   "execution_count": 7,
   "metadata": {},
   "outputs": [],
   "source": [
    "files = os.listdir(\"./sample_sentencias/\")"
   ]
  },
  {
   "cell_type": "code",
   "execution_count": 19,
   "metadata": {},
   "outputs": [
    {
     "name": "stdout",
     "output_type": "stream",
     "text": [
      "C-088-94_error5\n"
     ]
    }
   ],
   "source": [
    "sentdct = {}\n",
    "noencon = []\n",
    "for i,file in enumerate(files):\n",
    "    with open(str(\"./sample_sentencias/\"+files[i]), encoding=\"Windows-1252\") as f:   \n",
    "        soup = BeautifulSoup(f, \"html.parser\")\n",
    "        f.close()\n",
    "        btags = soup.find_all(\"b\")\n",
    "        htags = soup.find_all(re.compile(\"h[0-9]|h\"))\n",
    "        etags = soup.find_all(\"p\", class_=\"Estilo\")\n",
    "        mtags = soup.find_all(\"p\", class_=re.compile(\"MsoHeading[0-9]|MsoHeading\"))    \n",
    "        ANT = re.findall(\"ANTECEDENTES|Antecedentes|A.N.T.E.C.E.D.E.N.T.E.S|A.n.t.e.c.e.d.e.n.t.e.s|INFORMACI.N|Informaci.n\", str(btags))\n",
    "        CONS = re.findall(\"CONSIDERACIONES|Consideraciones|FUNDAMENTO|Fundamento|F.U.N.D.A.M.E.N.T.O|F.u.n.d.a.m.e.n.t.o|\", str(btags))\n",
    "        RES = re.findall(\"DECISI.N|Decisi.n|D.E.C.I.S.I...N|D.e.c.i.s.i...|RESUELVE|Resuelve|R.E.S.U.E.L.V.E|R.e.s.u.e.l.v.e|R\\nE.S.U.E.L.V.E|R\\ne.s.u.e.l.v.e\", str(btags))\n",
    "        ANT1 = re.findall(\"ANTECEDENTES|Antecedentes|A.N.T.E.C.E.D.E.N.T.E.S|A.n.t.e.c.e.d.e.n.t.e.s|INFORMACI.N|Informaci.n\", str(htags))\n",
    "        CONS1 = re.findall(\"CONSIDERACIONES|Consideraciones|FUNDAMENTO|Fundamento|F.U.N.D.A.M.E.N.T.O|F.u.n.d.a.m.e.n.t.o\", str(htags))\n",
    "        RES1 = re.findall(\"DECISI.N|Decisi.n|D.E.C.I.S.I...N|D.e.c.i.s.i...|RESUELVE|Resuelve|R.E.S.U.E.L.V.E|R.e.s.u.e.l.v.e|R\\nE.S.U.E.L.V.E|R\\ne.s.u.e.l.v.e\", str(htags))\n",
    "        ANT2 = re.findall(\"ANTECEDENTES|Antecedentes|A.N.T.E.C.E.D.E.N.T.E.S|A.n.t.e.c.e.d.e.n.t.e.s|INFORMACI.N|Informaci.n\", str(etags))\n",
    "        CONS2 = re.findall(\"CONSIDERACIONES|Consideraciones|FUNDAMENTO|Fundamento|F.U.N.D.A.M.E.N.T.O|F.u.n.d.a.m.e.n.t.o\", str(etags))\n",
    "        RES2 = re.findall(\"DECISI.N|Decisi.n|D.E.C.I.S.I...N|D.e.c.i.s.i...|RESUELVE|Resuelve|R.E.S.U.E.L.V.E|R.e.s.u.e.l.v.e|R\\nE.S.U.E.L.V.E|R\\ne.s.u.e.l.v.e\", str(etags))\n",
    "        ANT3 = re.findall(\"ANTECEDENTES|Antecedentes|A.N.T.E.C.E.D.E.N.T.E.S|A.n.t.e.c.e.d.e.n.t.e.s|INFORMACI.N|Informaci.n\", str(mtags))\n",
    "        CONS3 = re.findall(\"CONSIDERACIONES|Consideraciones|FUNDAMENTO|Fundamento|F.U.N.D.A.M.E.N.T.O|F.u.n.d.a.m.e.n.t.o\", str(mtags))\n",
    "        RES3 = re.findall(\"DECISI.N|Decisi.n|D.E.C.I.S.I...N|D.e.c.i.s.i...|RESUELVE|Resuelve|R.E.S.U.E.L.V.E|R.e.s.u.e.l.v.e|R\\nE.S.U.E.L.V.E|R\\ne.s.u.e.l.v.e\", str(mtags))\n",
    "        sent = re.findall(\"([CcTtSs].[0-9][0-9][0-9]-[0-9][0-9]|[CcTtSs].[0-9][0-9][0-9][Aa]-[0-9][0-9]|[CcTtSs].[0-9][0-9][0-9][0-9]-[0-9][0-9]|[CcTtSs].[0-9][0-9][0-9][0-9][Aa]-[0-9][0-9])\", str(soup))\n",
    "        if sent == []:\n",
    "            noencon.append(\"identificador %d\" % (i))\n",
    "        else:\n",
    "            nsent = str(sent[0])\n",
    "            DICTU = {\"id\":nsent}\n",
    "            ANTt = ANT + ANT1 + ANT2 + ANT3\n",
    "            CONSt = CONS + CONS1 + CONS2 + CONS3\n",
    "            RESt = RES + RES1 + RES2 + RES3\n",
    "            with open(\"./sample_sentencias/\"+files[i], mode=\"r\") as bigfile:\n",
    "                reader = bigfile.read()\n",
    "                if RESt != [] and CONSt != [] and ANTt != []:\n",
    "                    for i,part in enumerate(re.split(RESt[0], reader, maxsplit=1)):\n",
    "                        with open(\"RESm_\" + str(i+1), mode=\"w\") as newfileres:\n",
    "                            newfileres.write(RESt[0]+part)\n",
    "                    repart1 = open(\"RESm_1\", \"r\")\n",
    "                    departr = open(\"RESm_2\", \"r\")\n",
    "                    DICTU[\"RES\"] = (departr.read())\n",
    "                    for i,part in enumerate(re.split(CONSt[0], repart1.read(), maxsplit=1)):\n",
    "                        with open(\"CONSm_\" + str(i+1), mode=\"w\") as newfilecons:\n",
    "                            newfilecons.write(CONSt[0]+part)\n",
    "                    repart2 = open(\"CONSm_1\", \"r\")\n",
    "                    departc = open(\"CONSm_2\", \"r\")\n",
    "                    DICTU[\"CONS\"] = (departc.read())\n",
    "                    for i,part in enumerate(re.split(ANTt[0], repart2.read(), maxsplit=1)):\n",
    "                        with open(\"ANTm_\" + str(i+1), mode=\"w\") as newfileant:\n",
    "                            newfileant.write(ANTt[0]+part)\n",
    "                    departh1 = open(\"ANTm_1\", \"r\")\n",
    "                    departh2 = open(\"ANTm_2\", \"r\")\n",
    "                    DICTU[\"ANT\"] = (departh2.read())\n",
    "                    DICTU[\"ENC\"] = (departh1.read())\n",
    "                elif RESt != [] and CONSt != [] and ANTt == []:\n",
    "                    for i,part in enumerate(re.split(RESt[0], reader, maxsplit=1)):\n",
    "                        with open(\"RESm_\" + str(i+1), mode=\"w\") as newfileres:\n",
    "                            newfileres.write(RESt[0]+part)\n",
    "                    repart1 = open(\"RESm_1\", \"r\")\n",
    "                    departr = open(\"RESm_2\", \"r\")\n",
    "                    DICTU[\"RES\"] = (departr.read())\n",
    "                    for i,part in enumerate(re.split(CONSt[0], repart1.read(), maxsplit=1)):\n",
    "                        with open(\"CONSm_\" + str(i+1), mode=\"w\") as newfilecons:\n",
    "                            newfilecons.write(CONSt[0]+part)\n",
    "                    repart2 = open(\"CONSm_1\", \"r\")\n",
    "                    departc = open(\"CONSm_2\", \"r\")\n",
    "                    DICTU[\"CONS\"] = (departc.read())\n",
    "                    DICTU[\"ENC\"] = (repart2.read())\n",
    "                elif RESt != [] and CONSt == [] and ANTt == []:\n",
    "                    for i,part in enumerate(re.split(RESt[0], reader, maxsplit=1)):\n",
    "                        with open(\"RESm_\" + str(i+1), mode=\"w\") as newfileres:\n",
    "                            newfileres.write(RESt[0]+part)\n",
    "                    repart1 = open(\"RESm_1\", \"r\")\n",
    "                    departr = open(\"RESm_2\", \"r\")\n",
    "                    DICTU[\"RES\"] = (departr.read())\n",
    "                    DICTU[\"CUERPO\"] = (repart1.read())\n",
    "                elif RESt != [] and CONSt == [] and ANTt != []:\n",
    "                    print(\"%s_error4\" % (nsent))\n",
    "                else:\n",
    "                    print(\"%s_error5\" % (nsent))\n",
    "            sentdct['%s' % (nsent)] = DICTU"
   ]
  },
  {
   "cell_type": "code",
   "execution_count": 21,
   "metadata": {},
   "outputs": [
    {
     "name": "stdout",
     "output_type": "stream",
     "text": [
      "['identificador 122', 'identificador 235', 'identificador 716']\n"
     ]
    }
   ],
   "source": [
    "print(noencon)"
   ]
  },
  {
   "cell_type": "code",
   "execution_count": 25,
   "metadata": {},
   "outputs": [
    {
     "name": "stdout",
     "output_type": "stream",
     "text": [
      "<_io.TextIOWrapper name='./sample_sentencias/T-470-13.htm' mode='r' encoding='Windows-1252'>\n"
     ]
    }
   ],
   "source": [
    "r = open(str(\"./sample_sentencias/\"+files[716]), encoding=\"Windows-1252\")\n",
    "print(r)"
   ]
  },
  {
   "cell_type": "code",
   "execution_count": 20,
   "metadata": {
    "scrolled": true
   },
   "outputs": [
    {
     "name": "stdout",
     "output_type": "stream",
     "text": [
      "1019\n"
     ]
    }
   ],
   "source": [
    "print(len(sentdct.keys()))"
   ]
  },
  {
   "cell_type": "code",
   "execution_count": null,
   "metadata": {},
   "outputs": [],
   "source": [
    "print(sentdct[\"su491-93\"].get(\"CUERPO\"))"
   ]
  },
  {
   "cell_type": "code",
   "execution_count": null,
   "metadata": {},
   "outputs": [],
   "source": [
    "with open(str(\"./sample_sentencias/C-078-99.htm\"), encoding=\"Windows-1252\") as f:   \n",
    "    soup = BeautifulSoup(f, \"html.parser\")\n",
    "    f.close()\n",
    "    btags = soup.find_all(\"b\")\n",
    "    htags = soup.find_all(re.compile(\"h[0-9]|h\"))\n",
    "    etags = soup.find_all(\"p\", class_=\"Estilo\")\n",
    "    mtags = soup.find_all(\"p\", class_=re.compile(\"MsoHeading[0-9]|MsoHeading\"))    \n",
    "    ANT = re.findall(\"ANTECEDENTES|Antecedentes|A.N.T.E.C.E.D.E.N.T.E.S|A.n.t.e.c.e.d.e.n.t.e.s|INFORMACI.N|Informaci.n\", str(btags))\n",
    "    CONS = re.findall(\"CONSIDERACIONES|Consideraciones|FUNDAMENTO|Fundamento|F.U.N.D.A.M.E.N.T.O|F.u.n.d.a.m.e.n.t.o|\", str(btags))\n",
    "    RES = re.findall(\"DECISI.N|Decisi.n|D.E.C.I.S.I...N|D.e.c.i.s.i...|RESUELVE|Resuelve|R.E.S.U.E.L.V.E|R.e.s.u.e.l.v.e|R\\nE.S.U.E.L.V.E|R\\ne.s.u.e.l.v.e\", str(btags))\n",
    "    ANT1 = re.findall(\"ANTECEDENTES|Antecedentes|A.N.T.E.C.E.D.E.N.T.E.S|A.n.t.e.c.e.d.e.n.t.e.s|INFORMACI.N|Informaci.n\", str(htags))\n",
    "    CONS1 = re.findall(\"CONSIDERACIONES|Consideraciones|FUNDAMENTO|Fundamento|F.U.N.D.A.M.E.N.T.O|F.u.n.d.a.m.e.n.t.o\", str(htags))\n",
    "    RES1 = re.findall(\"DECISI.N|Decisi.n|D.E.C.I.S.I...N|D.e.c.i.s.i...|RESUELVE|Resuelve|R.E.S.U.E.L.V.E|R.e.s.u.e.l.v.e|R\\nE.S.U.E.L.V.E|R\\ne.s.u.e.l.v.e\", str(htags))\n",
    "    ANT2 = re.findall(\"ANTECEDENTES|Antecedentes|A.N.T.E.C.E.D.E.N.T.E.S|A.n.t.e.c.e.d.e.n.t.e.s|INFORMACI.N|Informaci.n\", str(etags))\n",
    "    CONS2 = re.findall(\"CONSIDERACIONES|Consideraciones|FUNDAMENTO|Fundamento|F.U.N.D.A.M.E.N.T.O|F.u.n.d.a.m.e.n.t.o\", str(etags))\n",
    "    RES2 = re.findall(\"DECISI.N|Decisi.n|D.E.C.I.S.I...N|D.e.c.i.s.i...|RESUELVE|Resuelve|R.E.S.U.E.L.V.E|R.e.s.u.e.l.v.e|R\\nE.S.U.E.L.V.E|R\\ne.s.u.e.l.v.e\", str(etags))\n",
    "    ANT3 = re.findall(\"ANTECEDENTES|Antecedentes|A.N.T.E.C.E.D.E.N.T.E.S|A.n.t.e.c.e.d.e.n.t.e.s|INFORMACI.N|Informaci.n\", str(mtags))\n",
    "    CONS3 = re.findall(\"CONSIDERACIONES|Consideraciones|FUNDAMENTO|Fundamento|F.U.N.D.A.M.E.N.T.O|F.u.n.d.a.m.e.n.t.o\", str(mtags))\n",
    "    RES3 = re.findall(\"DECISI.N|Decisi.n|D.E.C.I.S.I...N|D.e.c.i.s.i...|RESUELVE|Resuelve|R.E.S.U.E.L.V.E|R.e.s.u.e.l.v.e|R\\nE.S.U.E.L.V.E|R\\ne.s.u.e.l.v.e\", str(mtags))\n",
    "    sent = re.findall(\"([CcTtSs].[0-9][0-9][0-9]-[0-9][0-9]|[CcTtSs].[0-9][0-9][0-9][Aa]-[0-9][0-9]|[CcTtSs].[0-9][0-9][0-9][0-9]-[0-9][0-9]|[CcTtSs].[0-9][0-9][0-9][0-9][Aa]-[0-9][0-9])\", str(soup))\n",
    "    nsent = str(sent[0])\n",
    "    DICTU = {\"id\":nsent}\n",
    "    ANTt = ANT + ANT1 + ANT2 + ANT3\n",
    "    CONSt = CONS + CONS1 + CONS2 + CONS3\n",
    "    RESt = RES + RES1 + RES2 + RES3\n",
    "    #if len(RESt) == 2:\n",
    "        #RESt.pop(0)\n",
    "    #elif len(RESt) == 3:\n",
    "        #del RESt[0:2]"
   ]
  },
  {
   "cell_type": "code",
   "execution_count": null,
   "metadata": {},
   "outputs": [],
   "source": [
    "print(RESt)"
   ]
  },
  {
   "cell_type": "code",
   "execution_count": null,
   "metadata": {},
   "outputs": [],
   "source": [
    "with open(str(\"./sample_sentencias/C-762-09.htm\"), encoding=\"Windows-1252\") as f:   \n",
    "    soup = BeautifulSoup(f, \"html.parser\")\n",
    "    t = soup.find_all(text=True)\n",
    "    print(t)"
   ]
  }
 ],
 "metadata": {
  "kernelspec": {
   "display_name": "Python 3",
   "language": "python",
   "name": "python3"
  },
  "language_info": {
   "codemirror_mode": {
    "name": "ipython",
    "version": 3
   },
   "file_extension": ".py",
   "mimetype": "text/x-python",
   "name": "python",
   "nbconvert_exporter": "python",
   "pygments_lexer": "ipython3",
   "version": "3.8.5"
  }
 },
 "nbformat": 4,
 "nbformat_minor": 4
}
